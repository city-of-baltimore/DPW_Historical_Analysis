{
 "cells": [
  {
   "cell_type": "markdown",
   "metadata": {},
   "source": [
    "# CHIP/311/Open Baltimore Mismatch"
   ]
  },
  {
   "cell_type": "code",
   "execution_count": 118,
   "metadata": {},
   "outputs": [],
   "source": [
    "import pandas as pd\n",
    "from sodapy import Socrata\n",
    "import pyodbc\n",
    "conn1=pyodbc.connect('Driver={SQL Server};'\n",
    "                      'Server=balt-sql-fc;'\n",
    "                      'Database=CitiStat;'\n",
    "                      'Trusted_Connection=yes;')\n",
    "conn2=pyodbc.connect('Driver={SQL Server};'\n",
    "                      'Server=balt-gslistener;'\n",
    "                      'Database=housing;'\n",
    "                      'UID=egis_reader;PWD=baltimore01')"
   ]
  },
  {
   "cell_type": "markdown",
   "metadata": {},
   "source": [
    "### Open Baltimore Pull"
   ]
  },
  {
   "cell_type": "code",
   "execution_count": null,
   "metadata": {
    "scrolled": true
   },
   "outputs": [],
   "source": [
    "client = Socrata(\"data.baltimorecity.gov\",None)\n",
    "\n",
    "query = \"\"\"\n",
    "select servicerequestnum,srstatus,createddate\n",
    "where 1=1\n",
    "    and SRType = 'SW-HGW'\n",
    "    and srstatus not like '%Duplicate%'\n",
    "    and ((srstatus = 'Closed' and statusdate > '2020-02-12') or (srstatus != 'Closed'))\n",
    "    and createddate < '2020-02-12'\n",
    "limit 5000\n",
    "\"\"\"\n",
    "\n",
    "results = client.get(\"9agw-sxsr\",query= query)\n",
    "\n",
    "# Convert to pandas DataFrame\n",
    "ob = pd.DataFrame.from_records(results)"
   ]
  },
  {
   "cell_type": "markdown",
   "metadata": {},
   "source": [
    "### Citistat CSR Pull"
   ]
  },
  {
   "cell_type": "code",
   "execution_count": 127,
   "metadata": {},
   "outputs": [],
   "source": [
    "csr = pd.read_sql('''select [Service Request Number] as srid, [Created Date], [Block_Number_c],[sr status]\n",
    "from CitiStat.dbo.CSR\n",
    "where 1=1\n",
    "and agency = 'Solid Waste'\n",
    "and [SR Type] = 'SW-HGW'\n",
    "and lower([SR Status]) not like '%duplicate%'\n",
    "and [Created Date] < '2020-02-12'\n",
    "and (([Status Date] >='2020-02-12' and [SR Status] = 'Close') or ([SR Status] not like '%Close%'))\n",
    "''',conn1)"
   ]
  },
  {
   "cell_type": "markdown",
   "metadata": {},
   "source": [
    "### Housing CHIP pull (matches Citistat CHIP tables)"
   ]
  },
  {
   "cell_type": "markdown",
   "metadata": {},
   "source": [
    "#### This table was used to link CHIP and SR"
   ]
  },
  {
   "cell_type": "code",
   "execution_count": 128,
   "metadata": {},
   "outputs": [],
   "source": [
    "chip = pd.read_sql('''\n",
    "select CB_ID, CSR_Num, DateCreate,Block,Lot,status\n",
    "from housing.dbo.tbl_CHIP_WorkOrder\n",
    "where 1=1\n",
    "and [WorkOrderType] = 'Cleaning'\n",
    "and Status not like '%CLOSE%'\n",
    "and Status not like '%CANCEL%'\n",
    "and [CleanType] like '%HIGH GRASS%'\n",
    "AND [DateCreate] < '2020-02-12'\n",
    "and ([DateFinish] >= '2020-02-12' or (Status not like '%CLOSE%' and  Status not like '%CANCEL%'))\n",
    "''',conn2)"
   ]
  },
  {
   "cell_type": "markdown",
   "metadata": {},
   "source": [
    "### Merging Datasets"
   ]
  },
  {
   "cell_type": "markdown",
   "metadata": {},
   "source": [
    "CHIP/CSR"
   ]
  },
  {
   "cell_type": "code",
   "execution_count": 129,
   "metadata": {},
   "outputs": [],
   "source": [
    "csr_chip = pd.merge(csr,chip,how='outer',left_on='srid',right_on='CSR_Num')"
   ]
  },
  {
   "cell_type": "code",
   "execution_count": 130,
   "metadata": {},
   "outputs": [
    {
     "name": "stdout",
     "output_type": "stream",
     "text": [
      "49 records exist in CSR but not in CHIP\n"
     ]
    }
   ],
   "source": [
    "print(str(len(csr_chip[csr_chip['CB_ID'].isna()]))+ ' records exist in CSR but not in CHIP')"
   ]
  },
  {
   "cell_type": "code",
   "execution_count": 131,
   "metadata": {},
   "outputs": [
    {
     "name": "stdout",
     "output_type": "stream",
     "text": [
      "224 records exist in CHIP but not in CSR\n"
     ]
    }
   ],
   "source": [
    "print(str(len(csr_chip[csr_chip['srid'].isna()]))+ ' records exist in CHIP but not in CSR')"
   ]
  },
  {
   "cell_type": "code",
   "execution_count": 132,
   "metadata": {},
   "outputs": [],
   "source": [
    "csr_chip_mismatch = csr_chip.loc[csr_chip['srid'].isnull()==True,:].append(csr_chip[csr_chip['CB_ID'].isnull()==True])\n",
    "csr_chip_mismatch.to_csv('csr_chip_mismatch.csv')"
   ]
  },
  {
   "cell_type": "markdown",
   "metadata": {},
   "source": [
    "CHIP/Open Baltimore"
   ]
  },
  {
   "cell_type": "code",
   "execution_count": 134,
   "metadata": {},
   "outputs": [],
   "source": [
    "chip_ob = pd.merge(chip,ob,how='outer',left_on='CSR_Num',right_on='servicerequestnum')"
   ]
  },
  {
   "cell_type": "code",
   "execution_count": 135,
   "metadata": {},
   "outputs": [
    {
     "name": "stdout",
     "output_type": "stream",
     "text": [
      "125 records exist in Open Baltimore but not in CHIP\n"
     ]
    }
   ],
   "source": [
    "print(str(len(chip_ob[chip_ob['CB_ID'].isna()]))+ ' records exist in Open Baltimore but not in CHIP')"
   ]
  },
  {
   "cell_type": "code",
   "execution_count": 136,
   "metadata": {
    "scrolled": true
   },
   "outputs": [
    {
     "name": "stdout",
     "output_type": "stream",
     "text": [
      "228 records exist in CHIP but not in Open Baltimore\n"
     ]
    }
   ],
   "source": [
    "print(str(len(chip_ob[chip_ob['servicerequestnum'].isna()]))+ ' records exist in CHIP but not in Open Baltimore')"
   ]
  },
  {
   "cell_type": "code",
   "execution_count": 137,
   "metadata": {},
   "outputs": [],
   "source": [
    "chip_ob_mismatch = chip_ob.loc[chip_ob['servicerequestnum'].isnull()==True,:].append(chip_ob[chip_ob['CB_ID'].isnull()==True])\n",
    "chip_ob_mismatch.to_csv('chip_ob_mismatch.csv')"
   ]
  },
  {
   "cell_type": "markdown",
   "metadata": {},
   "source": [
    "Open Baltimore/CSR"
   ]
  },
  {
   "cell_type": "code",
   "execution_count": 138,
   "metadata": {},
   "outputs": [],
   "source": [
    "csr_ob = pd.merge(csr,ob,how='outer',left_on='srid',right_on='servicerequestnum')"
   ]
  },
  {
   "cell_type": "code",
   "execution_count": 139,
   "metadata": {},
   "outputs": [
    {
     "name": "stdout",
     "output_type": "stream",
     "text": [
      "4 records exist in CSR but not in Open Baltimore\n"
     ]
    }
   ],
   "source": [
    "print(str(len(csr_ob[csr_ob['servicerequestnum'].isna()]))+ ' records exist in CSR but not in Open Baltimore')"
   ]
  },
  {
   "cell_type": "code",
   "execution_count": 142,
   "metadata": {},
   "outputs": [
    {
     "name": "stdout",
     "output_type": "stream",
     "text": [
      "76 records exist in Open Baltimore but not in CSR\n"
     ]
    }
   ],
   "source": [
    "print(str(len(csr_ob[csr_ob['srid'].isna()]))+ ' records exist in Open Baltimore but not in CSR')"
   ]
  },
  {
   "cell_type": "code",
   "execution_count": 141,
   "metadata": {},
   "outputs": [],
   "source": [
    "csr_ob_mismatch = csr_ob.loc[csr_ob['servicerequestnum'].isnull()==True,:].append(csr_ob[csr_ob['srid'].isnull()==True])\n",
    "csr_ob_mismatch.to_csv('csr_ob_mismatch.csv')"
   ]
  },
  {
   "cell_type": "code",
   "execution_count": null,
   "metadata": {},
   "outputs": [],
   "source": []
  }
 ],
 "metadata": {
  "kernelspec": {
   "display_name": "Python 3",
   "language": "python",
   "name": "python3"
  },
  "language_info": {
   "codemirror_mode": {
    "name": "ipython",
    "version": 3
   },
   "file_extension": ".py",
   "mimetype": "text/x-python",
   "name": "python",
   "nbconvert_exporter": "python",
   "pygments_lexer": "ipython3",
   "version": "3.7.4"
  }
 },
 "nbformat": 4,
 "nbformat_minor": 2
}
